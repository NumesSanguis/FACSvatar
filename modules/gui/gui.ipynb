{
 "cells": [
  {
   "cell_type": "code",
   "execution_count": 6,
   "metadata": {
    "scrolled": false
   },
   "outputs": [],
   "source": [
    "# Copyright (c) Stef van der Struijk\n",
    "# License: GNU Lesser General Public License\n",
    "import sys\n",
    "sys.path.append(\".\")\n",
    "import copy\n",
    "from controller import Controller\n",
    "from ipywidgets import interact, interactive, interactive_output, HBox, Label, Layout, Button, ToggleButton\n",
    "import ipywidgets as widgets"
   ]
  },
  {
   "cell_type": "code",
   "execution_count": 7,
   "metadata": {
    "scrolled": false
   },
   "outputs": [
    {
     "name": "stderr",
     "output_type": "stream",
     "text": [
      "INFO:root:Current libzmq version is 4.2.5\n",
      "INFO:root:Current  pyzmq version is 17.1.2\n",
      "INFO:root:Publisher port is specified\n",
      "INFO:root:Creating ZeroMQ context on: tcp://127.0.0.1:5570\n",
      "INFO:root:Connect to tcp://127.0.0.1:5570 successful\n",
      "INFO:root:Write timestamps to: logging/timestamps_pub.csv\n",
      "INFO:root:Publisher socket set-up complete\n",
      "INFO:root:sub_port not specified, not setting-up subscriber\n",
      "INFO:root:Dealer port is specified\n",
      "INFO:root:Creating ZeroMQ context on: tcp://127.0.0.1:5580\n",
      "INFO:root:Connect to tcp://127.0.0.1:5580 successful\n",
      "INFO:root:Dealer socket set-up complete\n",
      "INFO:root:Dealer port 2 is specified\n",
      "INFO:root:Creating ZeroMQ context on: tcp://127.0.0.1:5581\n",
      "INFO:root:Connect to tcp://127.0.0.1:5581 successful\n",
      "INFO:root:Dealer 2 socket set-up complete\n",
      "INFO:root:Dealer port 3 is specified\n",
      "INFO:root:Creating ZeroMQ context on: tcp://127.0.0.1:5582\n",
      "INFO:root:Connect to tcp://127.0.0.1:5582 successful\n",
      "INFO:root:Dealer 3 socket set-up complete\n",
      "INFO:root:rout_port not specified, not setting-up router\n",
      "INFO:root:ZeroMQ sockets successfully set-up\n",
      "\n"
     ]
    },
    {
     "name": "stdout",
     "output_type": "stream",
     "text": [
      "init done\n"
     ]
    }
   ],
   "source": [
    "# restart kernel if changes made to .py file\n",
    "controller = Controller(pub_ip=\"127.0.0.1\", pub_port=5570, pub_key=\"gui.face_config\", pub_bind=False,\n",
    "                        deal_ip=\"127.0.0.1\", deal_port=5580, deal_key=\"gui\", deal_topic=\"multiplier\",\n",
    "                        deal2_ip=\"127.0.0.1\", deal2_port=5581, deal2_key=\"gui\", deal2_topic=\"dnn\",\n",
    "                        deal3_ip=\"127.0.0.1\", deal3_port=5582, deal3_key=\"gui\", deal3_topic=\"dnn\"\n",
    "                       )\n",
    "                              # 192.168.11.12"
   ]
  },
  {
   "cell_type": "code",
   "execution_count": 8,
   "metadata": {},
   "outputs": [
    {
     "data": {
      "text/plain": [
       "'Blink'"
      ]
     },
     "execution_count": 8,
     "metadata": {},
     "output_type": "execute_result"
    }
   ],
   "source": [
    "# AU sliders\n",
    "au_descriptions = {\n",
    "    \"AU01\": \"Inner brow raiser\",\n",
    "    \"AU02\": \"Outer brow raiser\",\n",
    "    \"AU04\": \"Brow lowerer\",\n",
    "    \"AU05\": \"Upper lid raiser\",\n",
    "    \"AU06\": \"Cheek raiser\",\n",
    "    \"AU07\": \"Lid tightener\",\n",
    "    \"AU09\": \"Nose wrinkler\",\n",
    "    \"AU10\": \"Upper lip raiser\",\n",
    "    \"AU12\": \"Lip corner puller\",\n",
    "    \"AU14\": \"Dimpler\",\n",
    "    \"AU15\": \"Lip corner depressor\",\n",
    "    \"AU17\": \"Chin raiser\",\n",
    "    \"AU20\": \"Lip stretcher\",\n",
    "    \"AU23\": \"Lip tightener\",\n",
    "    \"AU25\": \"Lips part\",\n",
    "    \"AU26\": \"Jaw drop\",\n",
    "    \"AU45\": \"Blink\",\n",
    "#     \"AU61\": \"Eyes left\",\n",
    "#     \"AU62\": \"Eyes right\",\n",
    "#     \"AU63\": \"Eyes up\",\n",
    "#     \"AU64\": \"Eyes down\"\n",
    "}\n",
    "\n",
    "style_au = {'description_width': '190px'}\n",
    "\n",
    "\n",
    "# emotion sliders\n",
    "emo_list = [\n",
    "    \"Happiness\",\n",
    "    \"Sadness\",\n",
    "    \"Surprise\",\n",
    "    \"Fear\",\n",
    "    \"Anger\",\n",
    "    \"Disgust\"\n",
    "]\n",
    "\n",
    "style_emo = {'description_width': '80px'}\n",
    "\n",
    "\n",
    "# get all AUs in new dict\n",
    "au_dict_emo = copy.deepcopy(au_descriptions)\n",
    "# remove blink from modifiers\n",
    "au_dict_emo.pop('AU45', None)\n",
    "# print(au_dict_emo)"
   ]
  },
  {
   "cell_type": "code",
   "execution_count": 9,
   "metadata": {
    "scrolled": false
   },
   "outputs": [
    {
     "data": {
      "application/vnd.jupyter.widget-view+json": {
       "model_id": "0d3843ed088b48819262729f95fed475",
       "version_major": 2,
       "version_minor": 0
      },
      "text/plain": [
       "HBox(children=(interactive(children=(FloatSlider(value=0.0, description='AU01 (Inner brow raiser)', layout=Lay…"
      ]
     },
     "metadata": {},
     "output_type": "display_data"
    }
   ],
   "source": [
    "# set facial configuration in real-time\n",
    "\n",
    "# create float sliders for every AU\n",
    "dict_config = {}\n",
    "for au, desc in au_descriptions.items():\n",
    "    dict_config[au] = widgets.FloatSlider(value=0.0, min=0.0, max=1.0, step=0.02, style=style_au,\n",
    "                                      layout=Layout(width='520px'),\n",
    "                                      description=\"{} ({})\".format(au, desc))\n",
    "    \n",
    "# create float sliders for head pose\n",
    "for pose in [\"pose_Rx\", \"pose_Ry\", \"pose_Rz\"]:\n",
    "    dict_config[pose] = widgets.FloatSlider(value=0.0, min=-1.0, max=1.0, step=0.02, style=style_au,\n",
    "                                      layout=Layout(width='520px'))\n",
    "\n",
    "# send facial configuration to FACSvatar\n",
    "def view_face_configuration(**kwargs):\n",
    "    controller.face_configuration(kwargs)\n",
    "    # return kwargs\n",
    "    \n",
    "\n",
    "    \n",
    "# create float sliders for every AU\n",
    "emo_dict_config = {}\n",
    "\n",
    "# exagerate expressions\n",
    "emo_dict_config['Exaggerate'] = widgets.FloatSlider(value=1.0, min=0.0, max=2.0, step=0.05, style=style_emo,\n",
    "                                      layout=Layout(width='400px'))\n",
    "\n",
    "# per emotion a float slider\n",
    "for emo in emo_list:\n",
    "    emo_dict_config[emo] = widgets.FloatSlider(value=0.0, min=0.0, max=1.0, step=0.05, style=style_emo,\n",
    "                                  layout=Layout(width='400px'))\n",
    "\n",
    "\n",
    "# modfiy multiple AUs at the same time\n",
    "def emotion_au_config(**kwargs):\n",
    "#     print(kwargs)\n",
    "    \n",
    "    # reset all AU values\n",
    "    for au, val in au_dict_emo.items():\n",
    "        au_dict_emo[au] = 0.0\n",
    "        \n",
    "    # happiness\n",
    "    au_dict_emo[\"AU06\"] += kwargs['Happiness']\n",
    "    au_dict_emo[\"AU12\"] += kwargs['Happiness']\n",
    "    \n",
    "    # Sadness\n",
    "    au_dict_emo[\"AU01\"] += kwargs['Sadness']\n",
    "    au_dict_emo[\"AU04\"] += kwargs['Sadness']\n",
    "    au_dict_emo[\"AU15\"] += kwargs['Sadness']\n",
    "    \n",
    "    # Surprise\n",
    "    au_dict_emo[\"AU01\"] += kwargs['Surprise']\n",
    "    au_dict_emo[\"AU02\"] += kwargs['Surprise']\n",
    "    au_dict_emo[\"AU05\"] += kwargs['Surprise']\n",
    "    au_dict_emo[\"AU26\"] += kwargs['Surprise']\n",
    "    \n",
    "    # Fear\n",
    "    au_dict_emo[\"AU01\"] += kwargs['Fear']\n",
    "    au_dict_emo[\"AU02\"] += kwargs['Fear']\n",
    "    au_dict_emo[\"AU04\"] += kwargs['Fear']\n",
    "    au_dict_emo[\"AU05\"] += kwargs['Fear']\n",
    "    au_dict_emo[\"AU07\"] += kwargs['Fear']\n",
    "    au_dict_emo[\"AU20\"] += kwargs['Fear']\n",
    "    au_dict_emo[\"AU26\"] += kwargs['Fear']\n",
    "    \n",
    "    # Anger\n",
    "    au_dict_emo[\"AU04\"] += kwargs['Anger']\n",
    "    au_dict_emo[\"AU05\"] += kwargs['Anger']\n",
    "    au_dict_emo[\"AU07\"] += kwargs['Anger']\n",
    "    au_dict_emo[\"AU23\"] += kwargs['Anger']\n",
    "    \n",
    "    # Disgust\n",
    "    au_dict_emo[\"AU09\"] += kwargs['Disgust']\n",
    "    au_dict_emo[\"AU15\"] += kwargs['Disgust']\n",
    "    au_dict_emo[\"AU25\"] += kwargs['Disgust']\n",
    "    \n",
    "    \n",
    "    # set AU slider values * exaggerate multiplier\n",
    "    for au, val in au_dict_emo.items():\n",
    "        dict_config[au].value = val * kwargs['Exaggerate']\n",
    "    \n",
    "    return kwargs\n",
    "\n",
    "\n",
    "\n",
    "# display sliders\n",
    "# w_face = interactive(view_face_configuration, **dict_config)\n",
    "# display(w_face)\n",
    "\n",
    "w_face = interactive(view_face_configuration, **dict_config)\n",
    "w_emo_config = interactive(emotion_au_config, **emo_dict_config)\n",
    "\n",
    "# print(w.children)\n",
    "display(HBox([w_face, w_emo_config]))"
   ]
  },
  {
   "cell_type": "code",
   "execution_count": 10,
   "metadata": {
    "scrolled": false
   },
   "outputs": [
    {
     "name": "stdout",
     "output_type": "stream",
     "text": [
      "AU multiplier sliders\n"
     ]
    },
    {
     "data": {
      "application/vnd.jupyter.widget-view+json": {
       "model_id": "3c43e793db79484abd3cbe5e67b3c859",
       "version_major": 2,
       "version_minor": 0
      },
      "text/plain": [
       "HBox(children=(interactive(children=(FloatSlider(value=1.0, description='AU01 (Inner brow raiser)', layout=Lay…"
      ]
     },
     "metadata": {},
     "output_type": "display_data"
    }
   ],
   "source": [
    "# multiply (increase / decrease) AU values in real-time\n",
    "print(\"AU multiplier sliders\")\n",
    "\n",
    "# create float sliders for every AU\n",
    "au_dict_multi = {}\n",
    "for au, desc in au_descriptions.items():\n",
    "    au_dict_multi[au] = widgets.FloatSlider(value=1.0, min=0.0, max=2.0, step=0.05, style=style_au,\n",
    "                                      layout=Layout(width='520px'),\n",
    "                                      description=\"{} ({})\".format(au, desc))\n",
    "    \n",
    "# increase blink multiplier by default\n",
    "au_dict_multi['AU45'].value = 1.5\n",
    "\n",
    "# print(au_dict_multi['AU01'].style.keys)\n",
    "\n",
    "# send multiplier values to FACSvatar\n",
    "def view_multiplier(**kwargs):\n",
    "    controller.multiplier(kwargs)\n",
    "    #return kwargs\n",
    "    \n",
    "\n",
    "# create float sliders for every AU\n",
    "emo_dict_multi = {}\n",
    "\n",
    "# exagerate expressions\n",
    "emo_dict_multi['Exaggerate'] = widgets.FloatSlider(value=1.0, min=0.0, max=2.0, step=0.05, style=style_emo,\n",
    "                                      layout=Layout(width='400px')) # , description=\"Exaggerate\"\n",
    "\n",
    "# per emotion a float slider\n",
    "for emo in emo_list:\n",
    "    emo_dict_multi[emo] = widgets.FloatSlider(value=0.0, min=-1.0, max=1.0, step=0.05, style=style_emo,\n",
    "                                  layout=Layout(width='400px'))\n",
    "    \n",
    "\n",
    "\n",
    "# modfiy multiple AUs at the same time\n",
    "def emotion_au_multi(**kwargs):\n",
    "#     print(kwargs)\n",
    "    \n",
    "    # reset all AU values\n",
    "    for au, val in au_dict_emo.items():\n",
    "        au_dict_emo[au] = 1.0\n",
    "        \n",
    "    # happiness\n",
    "    au_dict_emo[\"AU06\"] += kwargs['Happiness']\n",
    "    au_dict_emo[\"AU12\"] += kwargs['Happiness']\n",
    "    \n",
    "    # Sadness\n",
    "    au_dict_emo[\"AU01\"] += kwargs['Sadness']\n",
    "    au_dict_emo[\"AU04\"] += kwargs['Sadness']\n",
    "    au_dict_emo[\"AU15\"] += kwargs['Sadness']\n",
    "    \n",
    "    # Surprise\n",
    "    au_dict_emo[\"AU01\"] += kwargs['Surprise']\n",
    "    au_dict_emo[\"AU02\"] += kwargs['Surprise']\n",
    "    au_dict_emo[\"AU05\"] += kwargs['Surprise']\n",
    "    au_dict_emo[\"AU26\"] += kwargs['Surprise']\n",
    "    \n",
    "    # Fear\n",
    "    au_dict_emo[\"AU01\"] += kwargs['Fear']\n",
    "    au_dict_emo[\"AU02\"] += kwargs['Fear']\n",
    "    au_dict_emo[\"AU04\"] += kwargs['Fear']\n",
    "    au_dict_emo[\"AU05\"] += kwargs['Fear']\n",
    "    au_dict_emo[\"AU07\"] += kwargs['Fear']\n",
    "    au_dict_emo[\"AU20\"] += kwargs['Fear']\n",
    "    au_dict_emo[\"AU26\"] += kwargs['Fear']\n",
    "    \n",
    "    # Anger\n",
    "    au_dict_emo[\"AU04\"] += kwargs['Anger']\n",
    "    au_dict_emo[\"AU05\"] += kwargs['Anger']\n",
    "    au_dict_emo[\"AU07\"] += kwargs['Anger']\n",
    "    au_dict_emo[\"AU23\"] += kwargs['Anger']\n",
    "    \n",
    "    # Disgust\n",
    "    au_dict_emo[\"AU09\"] += kwargs['Disgust']\n",
    "    au_dict_emo[\"AU15\"] += kwargs['Disgust']\n",
    "    au_dict_emo[\"AU25\"] += kwargs['Disgust']\n",
    "    \n",
    "    \n",
    "    # set AU slider values * exaggerate multiplier\n",
    "    for au, val in au_dict_emo.items():\n",
    "        au_dict_multi[au].value = val * kwargs['Exaggerate']\n",
    "    \n",
    "    return kwargs\n",
    "   \n",
    "    \n",
    "    \n",
    "w_multi = interactive(view_multiplier, **au_dict_multi)\n",
    "w_emo = interactive(emotion_au_multi, **emo_dict_multi)\n",
    "\n",
    "# print(w.children)\n",
    "display(HBox([w_multi, w_emo]))"
   ]
  },
  {
   "cell_type": "code",
   "execution_count": null,
   "metadata": {
    "collapsed": true
   },
   "outputs": [],
   "source": [
    "# set AU multiplier\n",
    "# @interact(\n",
    "#     AU01=(0.0,2.0,0.05),\n",
    "#     AU02=(0.0,2.0,0.05),\n",
    "#     AU04=(0.0,2.0,0.05),\n",
    "#     AU05=(0.0,2.0,0.05),\n",
    "#     AU06=(0.0,2.0,0.05),\n",
    "#     AU07=(0.0,2.0,0.05),\n",
    "#     AU09=(0.0,2.0,0.05),\n",
    "#     AU10=(0.0,2.0,0.05),\n",
    "#     AU12=(0.0,2.0,0.05),\n",
    "#     AU14=(0.0,2.0,0.05),\n",
    "#     AU15=(0.0,2.0,0.05),\n",
    "#     AU17=(0.0,2.0,0.05),\n",
    "#     AU20=(0.0,2.0,0.05),\n",
    "#     AU23=(0.0,2.0,0.05),\n",
    "#     AU25=(0.0,2.0,0.05),\n",
    "#     AU26=(0.0,2.0,0.05),\n",
    "#     AU45=(0.0,2.0,0.05))\n",
    "# def f(**kwargs):\n",
    "#     # print(type(kwargs['AU25']))\n",
    "#     controller.multiplier(kwargs)\n",
    "#     #return kwargs"
   ]
  },
  {
   "cell_type": "code",
   "execution_count": null,
   "metadata": {},
   "outputs": [],
   "source": [
    "# change subscriber topic of DNN module\n",
    "\n",
    "dnn_button0 = widgets.Button(\n",
    "    description=\"DNN on user 0\",\n",
    "    disabled=False,\n",
    "    button_style='', # 'success', 'info', 'warning', 'danger' or ''\n",
    "    tooltip=\"Click me\",\n",
    "    icon='check'\n",
    ")\n",
    "dnn_button1 = widgets.Button(\n",
    "    description=\"DNN on user 1\",\n",
    "    disabled=False,\n",
    "    button_style='', # 'success', 'info', 'warning', 'danger' or ''\n",
    "    tooltip=\"Click me\",\n",
    "    icon='check'\n",
    ")\n",
    "\n",
    "display(dnn_button0)\n",
    "display(dnn_button1)\n",
    "\n",
    "def on_dnn_button0(b):\n",
    "    controller.dnn_sub_key_change(\"p0\")\n",
    "    \n",
    "def on_dnn_button1(b):\n",
    "    controller.dnn_sub_key_change(\"p1\")\n",
    "    \n",
    "dnn_button0.on_click(on_dnn_button0)\n",
    "dnn_button1.on_click(on_dnn_button1)"
   ]
  },
  {
   "cell_type": "code",
   "execution_count": null,
   "metadata": {
    "collapsed": true
   },
   "outputs": [],
   "source": [
    "# not working with normal Button\n",
    "# @interact\n",
    "# def clicked(DNN_user_0=ToggleButton()):\n",
    "#     print(DNN_user_0)\n",
    "    \n",
    "# @interact\n",
    "# def clicked(DNN_user_1=ToggleButton()):\n",
    "#     print(DNN_user_1)"
   ]
  },
  {
   "cell_type": "code",
   "execution_count": null,
   "metadata": {
    "collapsed": true
   },
   "outputs": [],
   "source": []
  }
 ],
 "metadata": {
  "kernelspec": {
   "display_name": "py37 facsvatar",
   "language": "python",
   "name": "facsvatar"
  },
  "language_info": {
   "codemirror_mode": {
    "name": "ipython",
    "version": 3
   },
   "file_extension": ".py",
   "mimetype": "text/x-python",
   "name": "python",
   "nbconvert_exporter": "python",
   "pygments_lexer": "ipython3",
   "version": "3.7.7"
  }
 },
 "nbformat": 4,
 "nbformat_minor": 2
}
